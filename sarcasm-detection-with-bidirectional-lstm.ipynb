{
 "cells": [
  {
   "cell_type": "code",
   "execution_count": 1,
   "metadata": {
    "_cell_guid": "b1076dfc-b9ad-4769-8c92-a6c4dae69d19",
    "_uuid": "8f2839f25d086af736a60e9eeb907d3b93b6e0e5"
   },
   "outputs": [
    {
     "name": "stdout",
     "output_type": "stream",
     "text": [
      "/kaggle/input/news-headlines-dataset-for-sarcasm-detection/Sarcasm_Headlines_Dataset.json\n",
      "/kaggle/input/news-headlines-dataset-for-sarcasm-detection/Sarcasm_Headlines_Dataset_v2.json\n"
     ]
    }
   ],
   "source": [
    "\n",
    "import numpy as np # linear algebra\n",
    "import pandas as pd # data processing, CSV file I/O (e.g. pd.read_csv)\n",
    "import tensorflow as tf\n",
    "from sklearn.model_selection import train_test_split\n",
    "import matplotlib.pyplot as plt\n",
    "import json\n",
    "import urllib\n",
    "\n",
    "# Input data files are available in the read-only \"../input/\" directory\n",
    "# For example, running this (by clicking run or pressing Shift+Enter) will list all files under the input directory\n",
    "\n",
    "import os\n",
    "for dirname, _, filenames in os.walk('/kaggle/input'):\n",
    "    for filename in filenames:\n",
    "        print(os.path.join(dirname, filename))\n",
    "\n"
   ]
  },
  {
   "cell_type": "code",
   "execution_count": 2,
   "metadata": {
    "_cell_guid": "79c7e3d0-c299-4dcb-8224-4455121ee9b0",
    "_uuid": "d629ff2d2480ee46fbb7e2d37f6b5fab8052498a"
   },
   "outputs": [
    {
     "name": "stdout",
     "output_type": "stream",
     "text": [
      "                                            headline  is_sarcastic\n",
      "0  former versace store clerk sues over secret 'b...             0\n",
      "1  the 'roseanne' revival catches up to our thorn...             0\n",
      "2  mom starting to fear son's web series closest ...             1\n",
      "3  boehner just wants wife to listen, not come up...             1\n",
      "4  j.k. rowling wishes snape happy birthday in th...             0\n",
      "\n",
      "  (26709, 2)\n"
     ]
    }
   ],
   "source": [
    "# load data\n",
    "df = pd.read_json('../input/news-headlines-dataset-for-sarcasm-detection/Sarcasm_Headlines_Dataset.json', lines=True)\n",
    "\n",
    "# we need only the text and target column\n",
    "df = df[['headline', 'is_sarcastic']]\n",
    "\n",
    "print(df.head())\n",
    "print('\\n ', df.shape)\n",
    "\n",
    "text = np.array(df['headline'].values)\n",
    "label = np.array(df['is_sarcastic'].values)"
   ]
  },
  {
   "cell_type": "code",
   "execution_count": 3,
   "metadata": {},
   "outputs": [],
   "source": [
    "# split data into training and validation\n",
    "\n",
    "train_text, validation_text, train_label, validation_label = train_test_split(text, label, test_size=0.1)"
   ]
  },
  {
   "cell_type": "code",
   "execution_count": 4,
   "metadata": {},
   "outputs": [],
   "source": [
    "# define parameters for later use\n",
    "\n",
    "pad_type = 'post' \n",
    "trunc_type = 'post'\n",
    "word_count = 10000 # we will train our model with only top 10000 common words and rest will be excluded \n",
    "max_len = 32\n",
    "threshold = 0.99 # to stop trainng the model once it reaches 90% accuracy\n",
    "batch_size = 50"
   ]
  },
  {
   "cell_type": "code",
   "execution_count": 5,
   "metadata": {},
   "outputs": [],
   "source": [
    "# tokenize sentences\n",
    "\n",
    "tokens = tf.keras.preprocessing.text.Tokenizer(num_words= word_count, oov_token='<OOV>')\n",
    "tokens.fit_on_texts(train_text)"
   ]
  },
  {
   "cell_type": "code",
   "execution_count": 6,
   "metadata": {},
   "outputs": [],
   "source": [
    "# get word index and vectors for all sentences\n",
    "\n",
    "word_index = tokens.word_index\n",
    "\n",
    "train_seq = tokens.texts_to_sequences(train_text)\n",
    "validation_seq = tokens.texts_to_sequences(validation_text)\n"
   ]
  },
  {
   "cell_type": "code",
   "execution_count": 7,
   "metadata": {},
   "outputs": [
    {
     "name": "stdout",
     "output_type": "stream",
     "text": [
      "strangers made sure this homeless man and his dog stayed warm during blizzard\n",
      "[2339, 204, 388, 19, 1000, 14, 9, 32, 202, 6468, 2847, 122, 7831]\n",
      "0\n"
     ]
    }
   ],
   "source": [
    "# print a sentence and its sequence and label\n",
    "\n",
    "print(train_text[1])\n",
    "print(train_seq[1])\n",
    "print(train_label[1])"
   ]
  },
  {
   "cell_type": "code",
   "execution_count": 8,
   "metadata": {},
   "outputs": [],
   "source": [
    "# padd the sentence sequence for equal length\n",
    "\n",
    "train_padded = tf.keras.preprocessing.sequence.pad_sequences(train_seq, padding = pad_type, truncating = trunc_type, maxlen = max_len)\n",
    "validation_padded = tf.keras.preprocessing.sequence.pad_sequences(validation_seq, padding  = pad_type, truncating = trunc_type, maxlen = max_len)"
   ]
  },
  {
   "cell_type": "code",
   "execution_count": 9,
   "metadata": {},
   "outputs": [
    {
     "name": "stdout",
     "output_type": "stream",
     "text": [
      "[  12  270 1000 1087   25    8  298 1209 2525 2703    0    0    0    0\n",
      "    0    0    0    0    0    0    0    0    0    0    0    0    0    0\n",
      "    0    0    0    0]\n",
      "new york homeless speak out on government aid, shelter programs\n",
      "0\n"
     ]
    }
   ],
   "source": [
    "# print padded sentence and sequence\n",
    "\n",
    "print(train_padded[227])\n",
    "print(train_text[227])\n",
    "print(train_label[227])"
   ]
  },
  {
   "cell_type": "code",
   "execution_count": 10,
   "metadata": {},
   "outputs": [
    {
     "name": "stdout",
     "output_type": "stream",
     "text": [
      "(24038, 32)\n",
      "(2671, 32)\n"
     ]
    }
   ],
   "source": [
    "print(train_padded.shape)\n",
    "print(validation_padded.shape)"
   ]
  },
  {
   "cell_type": "code",
   "execution_count": 11,
   "metadata": {},
   "outputs": [
    {
     "name": "stdout",
     "output_type": "stream",
     "text": [
      "Model: \"sequential\"\n",
      "_________________________________________________________________\n",
      "Layer (type)                 Output Shape              Param #   \n",
      "=================================================================\n",
      "embedding (Embedding)        (None, 32, 16)            160000    \n",
      "_________________________________________________________________\n",
      "bidirectional (Bidirectional (None, 32, 64)            12544     \n",
      "_________________________________________________________________\n",
      "bidirectional_1 (Bidirection (None, 128)               66048     \n",
      "_________________________________________________________________\n",
      "dropout (Dropout)            (None, 128)               0         \n",
      "_________________________________________________________________\n",
      "dense (Dense)                (None, 256)               33024     \n",
      "_________________________________________________________________\n",
      "dense_1 (Dense)              (None, 1)                 257       \n",
      "=================================================================\n",
      "Total params: 271,873\n",
      "Trainable params: 271,873\n",
      "Non-trainable params: 0\n",
      "_________________________________________________________________\n"
     ]
    }
   ],
   "source": [
    "# create model \n",
    "\n",
    "model = tf.keras.Sequential([\n",
    "    # add an embedding layer\n",
    "    tf.keras.layers.Embedding(word_count, 16, input_length=max_len),\n",
    "    \n",
    "    # add the bi-lstm layer\n",
    "    tf.keras.layers.Bidirectional(tf.keras.layers.LSTM(32, return_sequences=True)),\n",
    "    \n",
    "    # add another bi-lstm layer\n",
    "    tf.keras.layers.Bidirectional(tf.keras.layers.LSTM(64)),\n",
    "    \n",
    "    # add dropout layer to prevent overfitting\n",
    "    tf.keras.layers.Dropout(0.2),\n",
    "    \n",
    "    # add a dense layer\n",
    "    tf.keras.layers.Dense(256, activation=tf.keras.activations.relu),\n",
    "    \n",
    "    # add the prediction layer\n",
    "    tf.keras.layers.Dense(1, activation = tf.keras.activations.sigmoid),\n",
    "])\n",
    "\n",
    "model.compile(loss = tf.keras.losses.BinaryCrossentropy(), optimizer = tf.keras.optimizers.Adam(), metrics = ['accuracy'])\n",
    "\n",
    "model.summary()"
   ]
  },
  {
   "cell_type": "code",
   "execution_count": 12,
   "metadata": {},
   "outputs": [],
   "source": [
    "# define a callback function to stop training when thrshold is reached\n",
    "\n",
    "class myCallback(tf.keras.callbacks.Callback):\n",
    "    def on_epoch_end(self, epoch, logs={}):\n",
    "        if logs.get('accuracy') > threshold:\n",
    "            self.model.stop_training = True\n",
    "            print(' \\n Terminating training as model reached ' + str(threshold * 100) + ' % accuracy \\n')\n",
    "\n",
    "callback_func = myCallback()"
   ]
  },
  {
   "cell_type": "code",
   "execution_count": 13,
   "metadata": {},
   "outputs": [
    {
     "name": "stdout",
     "output_type": "stream",
     "text": [
      "Epoch 1/100\n",
      "481/481 [==============================] - 8s 16ms/step - loss: 0.4043 - accuracy: 0.8012 - val_loss: 0.3291 - val_accuracy: 0.8517\n",
      "Epoch 2/100\n",
      "481/481 [==============================] - 6s 13ms/step - loss: 0.2142 - accuracy: 0.9137 - val_loss: 0.3269 - val_accuracy: 0.8648\n",
      "Epoch 3/100\n",
      "481/481 [==============================] - 7s 14ms/step - loss: 0.1365 - accuracy: 0.9484 - val_loss: 0.4117 - val_accuracy: 0.8675\n",
      "Epoch 4/100\n",
      "481/481 [==============================] - 7s 14ms/step - loss: 0.0869 - accuracy: 0.9692 - val_loss: 0.4981 - val_accuracy: 0.8502\n",
      "Epoch 5/100\n",
      "481/481 [==============================] - 6s 13ms/step - loss: 0.0609 - accuracy: 0.9794 - val_loss: 0.5410 - val_accuracy: 0.8458\n",
      "Epoch 6/100\n",
      "481/481 [==============================] - 6s 13ms/step - loss: 0.0364 - accuracy: 0.9883 - val_loss: 0.7731 - val_accuracy: 0.8476\n",
      "Epoch 7/100\n",
      "481/481 [==============================] - ETA: 0s - loss: 0.0271 - accuracy: 0.9911 \n",
      " Terminating training as model reached 99.0 % accuracy \n",
      "\n",
      "481/481 [==============================] - 6s 13ms/step - loss: 0.0271 - accuracy: 0.9911 - val_loss: 0.7280 - val_accuracy: 0.8454\n"
     ]
    }
   ],
   "source": [
    "history = model.fit(train_padded, train_label, validation_data=(validation_padded, validation_label), epochs = 100, batch_size=batch_size, callbacks = [callback_func], verbose=1)"
   ]
  },
  {
   "cell_type": "code",
   "execution_count": 14,
   "metadata": {},
   "outputs": [
    {
     "data": {
      "image/png": "[encoded data removed]",
      "text/plain": [
       "<Figure size 432x288 with 1 Axes>"
      ]
     },
     "metadata": {
      "needs_background": "light"
     },
     "output_type": "display_data"
    }
   ],
   "source": [
    "# plot loss\n",
    "\n",
    "plt.plot(history.history['loss'])\n",
    "plt.plot(history.history['val_loss'])\n",
    "plt.legend(['Training loss', 'Validation loss'])\n",
    "plt.show()"
   ]
  },
  {
   "cell_type": "code",
   "execution_count": 15,
   "metadata": {},
   "outputs": [
    {
     "data": {
      "image/png": "[encoded data removed]",
      "text/plain": [
       "<Figure size 432x288 with 1 Axes>"
      ]
     },
     "metadata": {
      "needs_background": "light"
     },
     "output_type": "display_data"
    }
   ],
   "source": [
    "# plot accuracy \n",
    "plt.plot(history.history['accuracy'])\n",
    "plt.plot(history.history['val_accuracy'])\n",
    "plt.legend(['Training accuracy', 'Validation accuracy'])\n",
    "plt.show()"
   ]
  },
  {
   "cell_type": "code",
   "execution_count": 16,
   "metadata": {},
   "outputs": [
    {
     "name": "stdout",
     "output_type": "stream",
     "text": [
      "(10000, 16)\n"
     ]
    }
   ],
   "source": [
    "# extract embedding\n",
    "e = model.layers[0]\n",
    "weights = e.get_weights()[0]\n",
    "print(weights.shape)"
   ]
  },
  {
   "cell_type": "code",
   "execution_count": 17,
   "metadata": {},
   "outputs": [
    {
     "name": "stdout",
     "output_type": "stream",
     "text": [
      "(9999,)\n",
      "(9999, 16)\n"
     ]
    }
   ],
   "source": [
    "# map embeddings to words\n",
    "\n",
    "reverse_word_index = {v:k for k,v in word_index.items()}\n",
    "\n",
    "words = []\n",
    "embeddings = []\n",
    "\n",
    "for w in range(1, word_count):\n",
    "    \n",
    "    words.append(reverse_word_index[w])\n",
    "    embeddings.append(weights[w])\n",
    "    \n",
    "words = np.array(words)\n",
    "embeddings = np.array(embeddings)\n",
    "\n",
    "print(words.shape)\n",
    "print(embeddings.shape)"
   ]
  },
  {
   "cell_type": "code",
   "execution_count": 18,
   "metadata": {},
   "outputs": [
    {
     "name": "stdout",
     "output_type": "stream",
     "text": [
      "before\n",
      "[ 0.01663598 -0.03528101  0.0072131   0.05724121  0.00502486  0.00923272\n",
      "  0.01255624  0.0647527  -0.02112299 -0.00747943 -0.08052415 -0.03717985\n",
      " -0.03416302 -0.02372855 -0.05815376 -0.0054259 ]\n"
     ]
    }
   ],
   "source": [
    "print(words[88])\n",
    "print(embeddings[88])"
   ]
  },
  {
   "cell_type": "code",
   "execution_count": 19,
   "metadata": {},
   "outputs": [],
   "source": [
    "# export for mapping\n",
    "\n",
    "words = pd.DataFrame(words)\n",
    "embeddings = pd.DataFrame(embeddings)\n",
    "\n",
    "words.to_csv('meta.tsv', sep='\\t', index=False)\n",
    "embeddings.to_csv('vecs.tsv', sep='\\t', index=False)"
   ]
  }
 ],
 "metadata": {
  "kernelspec": {
   "display_name": "Python 3",
   "language": "python",
   "name": "python3"
  },
  "language_info": {
   "codemirror_mode": {
    "name": "ipython",
    "version": 3
   },
   "file_extension": ".py",
   "mimetype": "text/x-python",
   "name": "python",
   "nbconvert_exporter": "python",
   "pygments_lexer": "ipython3",
   "version": "3.7.6"
  }
 },
 "nbformat": 4,
 "nbformat_minor": 4
}
